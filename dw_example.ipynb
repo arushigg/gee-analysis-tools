{
 "cells": [
  {
   "cell_type": "code",
   "execution_count": null,
   "metadata": {},
   "outputs": [],
   "source": [
    "import pandas as pd\n",
    "import numpy as np\n",
    "\n",
    "import ee\n",
    "\n",
    "import src.utils as utils\n",
    "import src.dynamic_world as dw"
   ]
  },
  {
   "cell_type": "code",
   "execution_count": null,
   "metadata": {},
   "outputs": [],
   "source": [
    "# Must do this to connect to GEE\n",
    "utils.auth()"
   ]
  },
  {
   "cell_type": "markdown",
   "metadata": {},
   "source": [
    "Let's look at a floodplain in Pakistan from Jan. 2020 to Apr. 2020."
   ]
  },
  {
   "cell_type": "code",
   "execution_count": null,
   "metadata": {},
   "outputs": [],
   "source": [
    "# Create an instance of the DW wrapper\n",
    "polygon = ee.Geometry.BBox(67.522488,26.890631,70.120754,28.273336)\n",
    "collection = dw.DynamicWorld(\n",
    "    start_date=\"2020-01-01\",\n",
    "    end_date=\"2020-04-01\",\n",
    "    geometry=polygon\n",
    ")"
   ]
  },
  {
   "cell_type": "markdown",
   "metadata": {},
   "source": [
    "Say we want to see how the area has changed: we can compare different time periods within that span, focus just on the built environment to look for expansion, or map which areas have seen land cover type change the most."
   ]
  },
  {
   "cell_type": "code",
   "execution_count": null,
   "metadata": {},
   "outputs": [],
   "source": [
    "# Divide the collection into 3 time periods & add each as a layer\n",
    "collection.map_multiple_images(num_layers=3)\n",
    "# Just map the built areas\n",
    "collection.map_single_band(\"built\")\n",
    "# Map the standard deviation across the time period\n",
    "collection.map_volatility()\n",
    "collection.map"
   ]
  },
  {
   "cell_type": "markdown",
   "metadata": {},
   "source": [
    "Actually, let's extend our period of interest to June. What did the area look like over this period?"
   ]
  },
  {
   "cell_type": "code",
   "execution_count": null,
   "metadata": {},
   "outputs": [],
   "source": [
    "# Move the end date later\n",
    "collection.set_date_range(end_date=\"2020-06-01\")\n",
    "# Remove all the old layers\n",
    "collection.reset_map()\n",
    "collection.map_image_at_index(index=100)\n",
    "collection.map_composite_image()\n",
    "collection.map"
   ]
  },
  {
   "cell_type": "markdown",
   "metadata": {},
   "source": [
    "Or, we can focus in on how the land cover type distribution changed over time."
   ]
  },
  {
   "cell_type": "code",
   "execution_count": null,
   "metadata": {},
   "outputs": [],
   "source": [
    "# This function is slow, reduce max_px to speed it up\n",
    "chart = collection.graph_change_in_bands(num_buckets=4, max_px=1e8)\n",
    "chart"
   ]
  }
 ],
 "metadata": {
  "interpreter": {
   "hash": "31f2aee4e71d21fbe5cf8b01ff0e069b9275f58929596ceb00d14d90e3e16cd6"
  },
  "kernelspec": {
   "display_name": "Python 3.9.6 64-bit",
   "language": "python",
   "name": "python3"
  },
  "language_info": {
   "codemirror_mode": {
    "name": "ipython",
    "version": 3
   },
   "file_extension": ".py",
   "mimetype": "text/x-python",
   "name": "python",
   "nbconvert_exporter": "python",
   "pygments_lexer": "ipython3",
   "version": "3.9.6"
  },
  "orig_nbformat": 4
 },
 "nbformat": 4,
 "nbformat_minor": 2
}
